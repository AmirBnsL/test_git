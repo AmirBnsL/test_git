{
  "cells": [
    {
      "cell_type": "markdown",
      "metadata": {
        "id": "yKVi_CWGRUf1"
      },
      "source": [
        "# Simple Usage of vscode_colab\n",
        "\n",
        "This notebook demonstrates how to use the `vscode-colab` library to set up a VS Code server in Google Colab."
      ]
    },
    {
      "cell_type": "code",
      "execution_count": 1,
      "metadata": {
        "colab": {
          "base_uri": "https://localhost:8080/"
        },
        "id": "NfPowXc3RUf3",
        "outputId": "a551bf2a-a3e3-4d9d-88d6-5344a5aa63cf"
      },
      "outputs": [
        {
          "output_type": "stream",
          "name": "stdout",
          "text": [
            "Collecting vscode-colab\n",
            "  Downloading vscode_colab-0.3.1-py3-none-any.whl.metadata (8.1 kB)\n",
            "Requirement already satisfied: requests in /usr/local/lib/python3.12/dist-packages (from vscode-colab) (2.32.4)\n",
            "Requirement already satisfied: ipython in /usr/local/lib/python3.12/dist-packages (from vscode-colab) (7.34.0)\n",
            "Requirement already satisfied: jinja2 in /usr/local/lib/python3.12/dist-packages (from vscode-colab) (3.1.6)\n",
            "Collecting loguru (from vscode-colab)\n",
            "  Downloading loguru-0.7.3-py3-none-any.whl.metadata (22 kB)\n",
            "Requirement already satisfied: setuptools>=18.5 in /usr/local/lib/python3.12/dist-packages (from ipython->vscode-colab) (75.2.0)\n",
            "Collecting jedi>=0.16 (from ipython->vscode-colab)\n",
            "  Downloading jedi-0.19.2-py2.py3-none-any.whl.metadata (22 kB)\n",
            "Requirement already satisfied: decorator in /usr/local/lib/python3.12/dist-packages (from ipython->vscode-colab) (4.4.2)\n",
            "Requirement already satisfied: pickleshare in /usr/local/lib/python3.12/dist-packages (from ipython->vscode-colab) (0.7.5)\n",
            "Requirement already satisfied: traitlets>=4.2 in /usr/local/lib/python3.12/dist-packages (from ipython->vscode-colab) (5.7.1)\n",
            "Requirement already satisfied: prompt-toolkit!=3.0.0,!=3.0.1,<3.1.0,>=2.0.0 in /usr/local/lib/python3.12/dist-packages (from ipython->vscode-colab) (3.0.52)\n",
            "Requirement already satisfied: pygments in /usr/local/lib/python3.12/dist-packages (from ipython->vscode-colab) (2.19.2)\n",
            "Requirement already satisfied: backcall in /usr/local/lib/python3.12/dist-packages (from ipython->vscode-colab) (0.2.0)\n",
            "Requirement already satisfied: matplotlib-inline in /usr/local/lib/python3.12/dist-packages (from ipython->vscode-colab) (0.1.7)\n",
            "Requirement already satisfied: pexpect>4.3 in /usr/local/lib/python3.12/dist-packages (from ipython->vscode-colab) (4.9.0)\n",
            "Requirement already satisfied: MarkupSafe>=2.0 in /usr/local/lib/python3.12/dist-packages (from jinja2->vscode-colab) (3.0.3)\n",
            "Requirement already satisfied: charset_normalizer<4,>=2 in /usr/local/lib/python3.12/dist-packages (from requests->vscode-colab) (3.4.3)\n",
            "Requirement already satisfied: idna<4,>=2.5 in /usr/local/lib/python3.12/dist-packages (from requests->vscode-colab) (3.10)\n",
            "Requirement already satisfied: urllib3<3,>=1.21.1 in /usr/local/lib/python3.12/dist-packages (from requests->vscode-colab) (2.5.0)\n",
            "Requirement already satisfied: certifi>=2017.4.17 in /usr/local/lib/python3.12/dist-packages (from requests->vscode-colab) (2025.8.3)\n",
            "Requirement already satisfied: parso<0.9.0,>=0.8.4 in /usr/local/lib/python3.12/dist-packages (from jedi>=0.16->ipython->vscode-colab) (0.8.5)\n",
            "Requirement already satisfied: ptyprocess>=0.5 in /usr/local/lib/python3.12/dist-packages (from pexpect>4.3->ipython->vscode-colab) (0.7.0)\n",
            "Requirement already satisfied: wcwidth in /usr/local/lib/python3.12/dist-packages (from prompt-toolkit!=3.0.0,!=3.0.1,<3.1.0,>=2.0.0->ipython->vscode-colab) (0.2.14)\n",
            "Downloading vscode_colab-0.3.1-py3-none-any.whl (33 kB)\n",
            "Downloading loguru-0.7.3-py3-none-any.whl (61 kB)\n",
            "\u001b[2K   \u001b[90m━━━━━━━━━━━━━━━━━━━━━━━━━━━━━━━━━━━━━━━━\u001b[0m \u001b[32m61.6/61.6 kB\u001b[0m \u001b[31m5.0 MB/s\u001b[0m eta \u001b[36m0:00:00\u001b[0m\n",
            "\u001b[?25hDownloading jedi-0.19.2-py2.py3-none-any.whl (1.6 MB)\n",
            "\u001b[2K   \u001b[90m━━━━━━━━━━━━━━━━━━━━━━━━━━━━━━━━━━━━━━━━\u001b[0m \u001b[32m1.6/1.6 MB\u001b[0m \u001b[31m32.0 MB/s\u001b[0m eta \u001b[36m0:00:00\u001b[0m\n",
            "\u001b[?25hInstalling collected packages: loguru, jedi, vscode-colab\n",
            "Successfully installed jedi-0.19.2 loguru-0.7.3 vscode-colab-0.3.1\n"
          ]
        }
      ],
      "source": [
        "%pip install vscode-colab"
      ]
    },
    {
      "cell_type": "code",
      "execution_count": 2,
      "metadata": {
        "id": "GVfUtb-cRUf5"
      },
      "outputs": [],
      "source": [
        "# For local development, add the src directory to the Python path\n",
        "# import sys\n",
        "\n",
        "\n",
        "# sys.path.append(\"./vscode-colab/src\")"
      ]
    },
    {
      "cell_type": "code",
      "execution_count": 3,
      "metadata": {
        "colab": {
          "base_uri": "https://localhost:8080/",
          "height": 411
        },
        "id": "R4QOZ71VRUf5",
        "outputId": "49c41d37-ee1e-43df-fa1d-6c279894f909"
      },
      "outputs": [
        {
          "output_type": "stream",
          "name": "stderr",
          "text": [
            "\u001b[32m2025-10-06 16:20:29\u001b[0m | \u001b[1mINFO    \u001b[0m | \u001b[36mvscode_colab.server:download_vscode_cli:74\u001b[0m - \u001b[1mDownloading VS Code CLI (cli-alpine-x64) to /content/vscode_cli_alpine_x64.tar.gz...\u001b[0m\n",
            "\u001b[32m2025-10-06 16:20:29\u001b[0m | \u001b[1mINFO    \u001b[0m | \u001b[36mvscode_colab.server:download_vscode_cli:87\u001b[0m - \u001b[1mVS Code CLI tarball downloaded. Extracting...\u001b[0m\n",
            "\u001b[32m2025-10-06 16:20:30\u001b[0m | \u001b[1mINFO    \u001b[0m | \u001b[36mvscode_colab.server:download_vscode_cli:171\u001b[0m - \u001b[1mVS Code CLI setup successful. Executable at: '/content/code'.\u001b[0m\n",
            "\u001b[32m2025-10-06 16:20:30\u001b[0m | \u001b[1mINFO    \u001b[0m | \u001b[36mvscode_colab.server:_login:220\u001b[0m - \u001b[1mInitiating VS Code Tunnel login with command: /content/code tunnel user login --provider github\u001b[0m\n",
            "\u001b[32m2025-10-06 16:20:30\u001b[0m | \u001b[1mINFO    \u001b[0m | \u001b[36mvscode_colab.server:_login:254\u001b[0m - \u001b[1mMonitoring login process output for GitHub authentication URL and code...\u001b[0m\n",
            "\u001b[32m2025-10-06 16:20:30\u001b[0m | \u001b[1mINFO    \u001b[0m | \u001b[36mvscode_colab.server:_login:272\u001b[0m - \u001b[1mDetected authentication URL: https://github.com/login/device\u001b[0m\n",
            "\u001b[32m2025-10-06 16:20:30\u001b[0m | \u001b[1mINFO    \u001b[0m | \u001b[36mvscode_colab.server:_login:278\u001b[0m - \u001b[1mDetected authentication code: B7D9-1EDC\u001b[0m\n",
            "\u001b[32m2025-10-06 16:20:30\u001b[0m | \u001b[1mINFO    \u001b[0m | \u001b[36mvscode_colab.server:_login:281\u001b[0m - \u001b[1mAuthentication URL and code detected. Displaying to user.\u001b[0m\n"
          ]
        },
        {
          "output_type": "display_data",
          "data": {
            "text/plain": [
              "<IPython.core.display.HTML object>"
            ],
            "text/html": [
              "<div style=\"padding: 15px; background-color: #f0f7ff; border-radius: 8px; margin: 15px 0; font-family: Arial, sans-serif; border: 1px solid #c8e1ff; line-height: 1.6;\">\n",
              "    <h3 style=\"margin-top: 0; color: #0366d6; font-size: 18px;\">GitHub Authentication Required</h3>\n",
              "    <p style=\"margin-bottom: 15px; color: #333333;\">Please open the link below in a new tab and enter the following code:</p>\n",
              "    <div style=\"display: flex; align-items: center; margin-bottom: 15px; flex-wrap: wrap; gap: 15px;\">\n",
              "        <a href=\"https://github.com/login/device\" target=\"_blank\"\n",
              "            style=\"background-color: #2ea44f; color: white; padding: 10px 16px; text-decoration: none; border-radius: 6px; font-weight: 500; white-space: nowrap;\">\n",
              "            Open GitHub Authentication Page\n",
              "        </a>\n",
              "        <div id=\"code-container\" style=\"background-color: #ffffff; border: 1px solid #d1d5da; border-radius: 6px; padding: 10px 16px; font-family: 'SFMono-Regular', Consolas, 'Liberation Mono', Menlo, monospace; display: flex; align-items: center;\">\n",
              "            <span id=\"auth-code\" style=\"margin-right: 15px; font-size: 16px; user-select: all; color: #24292e;\">B7D9-1EDC</span>\n",
              "        </div>\n",
              "    </div>\n",
              "    <p id=\"copy-fallback-note\" style=\"font-size: small; color: #586069; margin-top: 10px; display: none;\">\n",
              "        Please select the code manually and copy it.\n",
              "    </p>\n",
              "    <script>\n",
              "        (function() {\n",
              "            // The Jinja2 'tojson' filter correctly escapes the string for JavaScript.\n",
              "            const codeToCopy = \"B7D9-1EDC\";\n",
              "            const codeContainer = document.getElementById('code-container');\n",
              "            const fallbackNote = document.getElementById('copy-fallback-note');\n",
              "\n",
              "            function attemptCopy() {\n",
              "                const copyButton = document.getElementById('dynamicCopyButton');\n",
              "                if (!copyButton) return;\n",
              "\n",
              "                navigator.clipboard.writeText(codeToCopy).then(() => {\n",
              "                    copyButton.textContent = 'Copied!';\n",
              "                    copyButton.style.backgroundColor = '#dff0d8';\n",
              "                    copyButton.style.borderColor = '#d6e9c6';\n",
              "                    copyButton.style.color = '#3c763d';\n",
              "                    setTimeout(() => {\n",
              "                        copyButton.textContent = 'Copy';\n",
              "                        copyButton.style.backgroundColor = '#f6f8fa';\n",
              "                        copyButton.style.borderColor = '#d1d5da';\n",
              "                        copyButton.style.color = '';\n",
              "                    }, 2500);\n",
              "                }).catch(err => {\n",
              "                    console.error('Failed to copy code automatically: ', err);\n",
              "                    copyButton.textContent = 'Copy Failed';\n",
              "                    copyButton.disabled = true;\n",
              "                    copyButton.style.backgroundColor = '#f2dede';\n",
              "                    copyButton.style.borderColor = '#ebccd1';\n",
              "                    copyButton.style.color = '#a94442';\n",
              "                    fallbackNote.style.display = 'block';\n",
              "                });\n",
              "            }\n",
              "\n",
              "            if (navigator.clipboard && navigator.clipboard.writeText) {\n",
              "                const button = document.createElement('button');\n",
              "                button.id = 'dynamicCopyButton';\n",
              "                button.textContent = 'Copy';\n",
              "                button.style.backgroundColor = '#f6f8fa';\n",
              "                button.style.border = '1px solid #d1d5da';\n",
              "                button.style.borderRadius = '6px';\n",
              "                button.style.padding = '6px 12px';\n",
              "                button.style.cursor = 'pointer';\n",
              "                button.style.fontSize = '14px';\n",
              "                button.style.whiteSpace = 'nowrap';\n",
              "                button.style.marginLeft = '10px';\n",
              "                button.onclick = attemptCopy;\n",
              "                codeContainer.appendChild(button);\n",
              "            } else {\n",
              "                fallbackNote.style.display = 'block';\n",
              "            }\n",
              "        })();\n",
              "    </script>\n",
              "</div>"
            ]
          },
          "metadata": {}
        },
        {
          "output_type": "stream",
          "name": "stderr",
          "text": [
            "\u001b[32m2025-10-06 16:20:30\u001b[0m | \u001b[1mINFO    \u001b[0m | \u001b[36mvscode_colab.server:login:200\u001b[0m - \u001b[1mLogin successful: Set environment variable VSCODE_COLAB_LOGGED_IN=true\u001b[0m\n"
          ]
        },
        {
          "output_type": "execute_result",
          "data": {
            "text/plain": [
              "True"
            ]
          },
          "metadata": {},
          "execution_count": 3
        }
      ],
      "source": [
        "from vscode_colab import login, connect\n",
        "\n",
        "\n",
        "login()"
      ]
    },
    {
      "cell_type": "markdown",
      "metadata": {
        "id": "s7Q1u-8tRUf6"
      },
      "source": [
        "You can also pass the extensions you want to install. Additionally, you can specify a Python version to be set up using `pyenv` (note: this can take around 5 minutes if the Python version needs to be installed) and create a new project directory with a virtual environment.\n",
        "\n",
        "Here are some examples:"
      ]
    },
    {
      "cell_type": "code",
      "execution_count": 4,
      "metadata": {
        "colab": {
          "base_uri": "https://localhost:8080/",
          "height": 584
        },
        "id": "E86cGd2vRUf7",
        "outputId": "8e8d83b9-60b5-4ede-8fd4-424ef6fed527"
      },
      "outputs": [
        {
          "output_type": "stream",
          "name": "stderr",
          "text": [
            "\u001b[32m2025-10-06 16:20:30\u001b[0m | \u001b[1mINFO    \u001b[0m | \u001b[36mvscode_colab.server:connect:579\u001b[0m - \u001b[1mInitial CWD for connect operation: /content\u001b[0m\n",
            "\u001b[32m2025-10-06 16:20:30\u001b[0m | \u001b[1mINFO    \u001b[0m | \u001b[36mvscode_colab.server:download_vscode_cli:58\u001b[0m - \u001b[1mVS Code CLI already exists and is executable at /content/code. Skipping download.\u001b[0m\n",
            "\u001b[32m2025-10-06 16:20:30\u001b[0m | \u001b[1mINFO    \u001b[0m | \u001b[36mvscode_colab.environment.git_handler:configure_git:27\u001b[0m - \u001b[1mAttempting to set git global user.name='amirbnsl' and user.email='amir71084@gmail.com'...\u001b[0m\n",
            "\u001b[32m2025-10-06 16:20:30\u001b[0m | \u001b[1mINFO    \u001b[0m | \u001b[36mvscode_colab.environment.git_handler:configure_git:53\u001b[0m - \u001b[1mSuccessfully set git global user.name='amirbnsl'.\u001b[0m\n",
            "\u001b[32m2025-10-06 16:20:30\u001b[0m | \u001b[1mINFO    \u001b[0m | \u001b[36mvscode_colab.environment.git_handler:configure_git:88\u001b[0m - \u001b[1mSuccessfully set git global user.email='amir71084@gmail.com'.\u001b[0m\n",
            "\u001b[32m2025-10-06 16:20:30\u001b[0m | \u001b[1mINFO    \u001b[0m | \u001b[36mvscode_colab.server:_configure_environment_for_tunnel:390\u001b[0m - \u001b[1mAttempting to create project: 'my_awesome_project' at '.'.\u001b[0m\n",
            "\u001b[32m2025-10-06 16:20:30\u001b[0m | \u001b[1mINFO    \u001b[0m | \u001b[36mvscode_colab.environment.project_setup:setup_project_directory:360\u001b[0m - \u001b[1mCreating project directory at: /content/my_awesome_project\u001b[0m\n",
            "\u001b[32m2025-10-06 16:20:30\u001b[0m | \u001b[1mINFO    \u001b[0m | \u001b[36mvscode_colab.environment.project_setup:_initialize_git_repo:206\u001b[0m - \u001b[1mInitializing Git repository...\u001b[0m\n",
            "\u001b[32m2025-10-06 16:20:30\u001b[0m | \u001b[1mINFO    \u001b[0m | \u001b[36mvscode_colab.environment.project_setup:_initialize_git_repo:236\u001b[0m - \u001b[1mGit repository initialized successfully.\u001b[0m\n",
            "\u001b[32m2025-10-06 16:20:30\u001b[0m | \u001b[1mINFO    \u001b[0m | \u001b[36mvscode_colab.environment.project_setup:_create_virtual_environment:265\u001b[0m - \u001b[1mAttempting to create virtual environment '.venv' in '/content/my_awesome_project' using Python: python3\u001b[0m\n",
            "\u001b[32m2025-10-06 16:20:30\u001b[0m | \u001b[1mINFO    \u001b[0m | \u001b[36mvscode_colab.environment.project_setup:_create_virtual_environment:278\u001b[0m - \u001b[1mCreating virtual environment '.venv' in '/content/my_awesome_project' using '/usr/bin/python3'.\u001b[0m\n"
          ]
        },
        {
          "output_type": "error",
          "ename": "AttributeError",
          "evalue": "'NoneType' object has no attribute 'strip'",
          "traceback": [
            "\u001b[0;31m---------------------------------------------------------------------------\u001b[0m",
            "\u001b[0;31mAttributeError\u001b[0m                            Traceback (most recent call last)",
            "\u001b[0;32m/tmp/ipython-input-2842543394.py\u001b[0m in \u001b[0;36m<cell line: 0>\u001b[0;34m()\u001b[0m\n\u001b[1;32m      4\u001b[0m \u001b[0;31m# Example 2: Connect with a specific tunnel name, Git configuration, Python version, and new project\u001b[0m\u001b[0;34m\u001b[0m\u001b[0;34m\u001b[0m\u001b[0m\n\u001b[1;32m      5\u001b[0m \u001b[0;31m# Note: Installing a new Python version with pyenv can take ~5 minutes if the version is not already installed.\u001b[0m\u001b[0;34m\u001b[0m\u001b[0;34m\u001b[0m\u001b[0m\n\u001b[0;32m----> 6\u001b[0;31m connect(\n\u001b[0m\u001b[1;32m      7\u001b[0m     \u001b[0mname\u001b[0m\u001b[0;34m=\u001b[0m\u001b[0;34m\"my-dev-environment\"\u001b[0m\u001b[0;34m,\u001b[0m\u001b[0;34m\u001b[0m\u001b[0;34m\u001b[0m\u001b[0m\n\u001b[1;32m      8\u001b[0m     \u001b[0mgit_user_name\u001b[0m\u001b[0;34m=\u001b[0m\u001b[0;34m\"amirbnsl\"\u001b[0m\u001b[0;34m,\u001b[0m\u001b[0;34m\u001b[0m\u001b[0;34m\u001b[0m\u001b[0m\n",
            "\u001b[0;32m/usr/local/lib/python3.12/dist-packages/vscode_colab/__init__.py\u001b[0m in \u001b[0;36mconnect\u001b[0;34m(name, include_default_extensions, extensions, git_user_name, git_user_email, setup_python_version, force_python_reinstall, attempt_pyenv_dependency_install, create_new_project, new_project_base_path, venv_name_for_project, system)\u001b[0m\n\u001b[1;32m     67\u001b[0m     \"\"\"\n\u001b[1;32m     68\u001b[0m     \u001b[0mactive_system\u001b[0m \u001b[0;34m=\u001b[0m \u001b[0msystem\u001b[0m \u001b[0;32mif\u001b[0m \u001b[0msystem\u001b[0m \u001b[0;32mis\u001b[0m \u001b[0;32mnot\u001b[0m \u001b[0;32mNone\u001b[0m \u001b[0;32melse\u001b[0m \u001b[0m_default_system_instance\u001b[0m\u001b[0;34m\u001b[0m\u001b[0;34m\u001b[0m\u001b[0m\n\u001b[0;32m---> 69\u001b[0;31m     return server_connect(\n\u001b[0m\u001b[1;32m     70\u001b[0m         \u001b[0msystem\u001b[0m\u001b[0;34m=\u001b[0m\u001b[0mactive_system\u001b[0m\u001b[0;34m,\u001b[0m\u001b[0;34m\u001b[0m\u001b[0;34m\u001b[0m\u001b[0m\n\u001b[1;32m     71\u001b[0m         \u001b[0mname\u001b[0m\u001b[0;34m=\u001b[0m\u001b[0mname\u001b[0m\u001b[0;34m,\u001b[0m\u001b[0;34m\u001b[0m\u001b[0;34m\u001b[0m\u001b[0m\n",
            "\u001b[0;32m/usr/local/lib/python3.12/dist-packages/vscode_colab/server.py\u001b[0m in \u001b[0;36mconnect\u001b[0;34m(system, name, include_default_extensions, extensions, git_user_name, git_user_email, setup_python_version, force_python_reinstall, attempt_pyenv_dependency_install, create_new_project, new_project_base_path, venv_name_for_project)\u001b[0m\n\u001b[1;32m    591\u001b[0m     \u001b[0;31m# Step 1: Configure environment (Git, Python via pyenv, Project directory)\u001b[0m\u001b[0;34m\u001b[0m\u001b[0;34m\u001b[0m\u001b[0m\n\u001b[1;32m    592\u001b[0m     \u001b[0;31m# This helper returns the Python executable to use for venv and the CWD for the tunnel.\u001b[0m\u001b[0;34m\u001b[0m\u001b[0;34m\u001b[0m\u001b[0m\n\u001b[0;32m--> 593\u001b[0;31m     _py_exec_res, tunnel_run_cwd = _configure_environment_for_tunnel(\n\u001b[0m\u001b[1;32m    594\u001b[0m         \u001b[0msystem\u001b[0m\u001b[0;34m,\u001b[0m\u001b[0;34m\u001b[0m\u001b[0;34m\u001b[0m\u001b[0m\n\u001b[1;32m    595\u001b[0m         \u001b[0mgit_user_name\u001b[0m\u001b[0;34m,\u001b[0m\u001b[0;34m\u001b[0m\u001b[0;34m\u001b[0m\u001b[0m\n",
            "\u001b[0;32m/usr/local/lib/python3.12/dist-packages/vscode_colab/server.py\u001b[0m in \u001b[0;36m_configure_environment_for_tunnel\u001b[0;34m(system, git_user_name, git_user_email, setup_python_version, force_python_reinstall, attempt_pyenv_dependency_install, create_new_project, new_project_base_path, venv_name_for_project)\u001b[0m\n\u001b[1;32m    395\u001b[0m         \u001b[0mabs_new_project_base_path\u001b[0m \u001b[0;34m=\u001b[0m \u001b[0msystem\u001b[0m\u001b[0;34m.\u001b[0m\u001b[0mget_absolute_path\u001b[0m\u001b[0;34m(\u001b[0m\u001b[0mnew_project_base_path\u001b[0m\u001b[0;34m)\u001b[0m\u001b[0;34m\u001b[0m\u001b[0;34m\u001b[0m\u001b[0m\n\u001b[1;32m    396\u001b[0m \u001b[0;34m\u001b[0m\u001b[0m\n\u001b[0;32m--> 397\u001b[0;31m         project_setup_res = setup_project_directory(\n\u001b[0m\u001b[1;32m    398\u001b[0m             \u001b[0msystem\u001b[0m\u001b[0;34m,\u001b[0m\u001b[0;34m\u001b[0m\u001b[0;34m\u001b[0m\u001b[0m\n\u001b[1;32m    399\u001b[0m             \u001b[0mproject_name\u001b[0m\u001b[0;34m=\u001b[0m\u001b[0mcreate_new_project\u001b[0m\u001b[0;34m,\u001b[0m\u001b[0;34m\u001b[0m\u001b[0;34m\u001b[0m\u001b[0m\n",
            "\u001b[0;32m/usr/local/lib/python3.12/dist-packages/vscode_colab/environment/project_setup.py\u001b[0m in \u001b[0;36msetup_project_directory\u001b[0;34m(system, project_name, base_path, python_executable, venv_name)\u001b[0m\n\u001b[1;32m    376\u001b[0m     \u001b[0;31m# Create virtual environment\u001b[0m\u001b[0;34m\u001b[0m\u001b[0;34m\u001b[0m\u001b[0m\n\u001b[1;32m    377\u001b[0m     \u001b[0;31m# Note: _create_virtual_environment will use project_path as CWD for its commands\u001b[0m\u001b[0;34m\u001b[0m\u001b[0;34m\u001b[0m\u001b[0m\n\u001b[0;32m--> 378\u001b[0;31m     venv_res = _create_virtual_environment(\n\u001b[0m\u001b[1;32m    379\u001b[0m         \u001b[0msystem\u001b[0m\u001b[0;34m,\u001b[0m\u001b[0;34m\u001b[0m\u001b[0;34m\u001b[0m\u001b[0m\n\u001b[1;32m    380\u001b[0m         \u001b[0mproject_path\u001b[0m\u001b[0;34m,\u001b[0m\u001b[0;34m\u001b[0m\u001b[0;34m\u001b[0m\u001b[0m\n",
            "\u001b[0;32m/usr/local/lib/python3.12/dist-packages/vscode_colab/environment/project_setup.py\u001b[0m in \u001b[0;36m_create_virtual_environment\u001b[0;34m(system, project_path, python_executable, venv_name)\u001b[0m\n\u001b[1;32m    297\u001b[0m     \u001b[0;32mif\u001b[0m \u001b[0mvenv_create_result\u001b[0m\u001b[0;34m.\u001b[0m\u001b[0mreturncode\u001b[0m \u001b[0;34m!=\u001b[0m \u001b[0;36m0\u001b[0m\u001b[0;34m:\u001b[0m\u001b[0;34m\u001b[0m\u001b[0;34m\u001b[0m\u001b[0m\n\u001b[1;32m    298\u001b[0m         err_msg_venv = (\n\u001b[0;32m--> 299\u001b[0;31m             \u001b[0mvenv_create_result\u001b[0m\u001b[0;34m.\u001b[0m\u001b[0mstderr\u001b[0m\u001b[0;34m.\u001b[0m\u001b[0mstrip\u001b[0m\u001b[0;34m(\u001b[0m\u001b[0;34m)\u001b[0m \u001b[0;32mor\u001b[0m \u001b[0mvenv_create_result\u001b[0m\u001b[0;34m.\u001b[0m\u001b[0mstdout\u001b[0m\u001b[0;34m.\u001b[0m\u001b[0mstrip\u001b[0m\u001b[0;34m(\u001b[0m\u001b[0;34m)\u001b[0m\u001b[0;34m\u001b[0m\u001b[0;34m\u001b[0m\u001b[0m\n\u001b[0m\u001b[1;32m    300\u001b[0m         )\n\u001b[1;32m    301\u001b[0m         \u001b[0mfull_err_msg_venv\u001b[0m \u001b[0;34m=\u001b[0m \u001b[0;34mf\"Failed to create venv '{venv_name}'. RC: {venv_create_result.returncode}. Error: {err_msg_venv}\"\u001b[0m\u001b[0;34m\u001b[0m\u001b[0;34m\u001b[0m\u001b[0m\n",
            "\u001b[0;31mAttributeError\u001b[0m: 'NoneType' object has no attribute 'strip'"
          ]
        }
      ],
      "source": [
        "# Example 1: Default connect (uncomment to run)\n",
        "# connect()\n",
        "\n",
        "# Example 2: Connect with a specific tunnel name, Git configuration, Python version, and new project\n",
        "# Note: Installing a new Python version with pyenv can take ~5 minutes if the version is not already installed.\n",
        "connect(\n",
        "    name=\"my-dev-environment\",\n",
        "    git_user_name=\"amirbnsl\",\n",
        "    git_user_email=\"amir71084@gmail.com\",\n",
        "    setup_python_version=\"3.13\",  # Optional: Specify Python version to install with pyenv\n",
        "    create_new_project=\"my_awesome_project\", # Optional: Create a new project folder\n",
        "    # new_project_base_path=\".\", # Optional: Base path for the new project (default is current dir)\n",
        "    # venv_name_for_project=\".venv\" # Optional: Name for the virtual environment in the new project\n",
        ")\n",
        "\n",
        "# Example 3: Only install specific extensions, overriding defaults (uncomment to run)\n",
        "# connect(name=\"cpp-dev\", extensions=[\"ms-vscode.cpptools\"], include_default_extensions=False)\n",
        "\n",
        "# Example 4: Set up Python and create a project in a specific location (uncomment to run)\n",
        "# connect(\n",
        "#     name=\"py310-specific-project\",\n",
        "#     setup_python_version=\"3.10\",\n",
        "#     create_new_project=\"another_project\",\n",
        "#     new_project_base_path=\"~/my_projects\", # Be cautious with paths like ~ in Colab/Kaggle\n",
        "#     venv_name_for_project=\".custom_env\"\n",
        "# )"
      ]
    }
  ],
  "metadata": {
    "colab": {
      "provenance": []
    },
    "kernelspec": {
      "display_name": "Python 3 (ipykernel)",
      "language": "python",
      "name": "python3"
    },
    "language_info": {
      "codemirror_mode": {
        "name": "ipython",
        "version": 3
      },
      "file_extension": ".py",
      "mimetype": "text/x-python",
      "name": "python",
      "nbconvert_exporter": "python",
      "pygments_lexer": "ipython3",
      "version": "3.11.11"
    }
  },
  "nbformat": 4,
  "nbformat_minor": 0
}